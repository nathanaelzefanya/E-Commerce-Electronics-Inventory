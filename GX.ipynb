{
 "cells": [
  {
   "cell_type": "code",
   "execution_count": 1,
   "id": "0376310c",
   "metadata": {},
   "outputs": [],
   "source": [
    "# Install the library\n",
    "\n",
    "!pip install -q \"great-expectations==0.18.19\""
   ]
  },
  {
   "cell_type": "code",
   "execution_count": 2,
   "id": "ad1d2c29",
   "metadata": {},
   "outputs": [],
   "source": [
    "# Create a data context\n",
    "\n",
    "from great_expectations.data_context import FileDataContext\n",
    "\n",
    "context = FileDataContext.create(project_root_dir='./')"
   ]
  },
  {
   "cell_type": "code",
   "execution_count": 3,
   "id": "f9d5c53d",
   "metadata": {},
   "outputs": [],
   "source": [
    "# Give uniques name to the Datasource\n",
    "datasource_name = 'csv-electronics-inventory'\n",
    "datasource = context.sources.add_pandas(datasource_name)\n",
    "\n",
    "# Give a name to a data asset\n",
    "asset_name = 'electronics-inventory-data'\n",
    "path_to_data = 'H:/Hacktiv8/p2-ftds042-rmt-m3-nathanaelzefanya/P2M3_nathanael_data_clean.csv'\n",
    "asset = datasource.add_csv_asset(asset_name, filepath_or_buffer=path_to_data)\n",
    "\n",
    "# Build batch request\n",
    "batch_request = asset.build_batch_request()"
   ]
  },
  {
   "cell_type": "code",
   "execution_count": null,
   "id": "11fb7ac1",
   "metadata": {},
   "outputs": [
    {
     "data": {
      "application/vnd.jupyter.widget-view+json": {
       "model_id": "ae1565d6542d4fd7885822886d62efbd",
       "version_major": 2,
       "version_minor": 0
      },
      "text/plain": [
       "Calculating Metrics:   0%|          | 0/1 [00:00<?, ?it/s]"
      ]
     },
     "metadata": {},
     "output_type": "display_data"
    },
    {
     "data": {
      "text/html": [
       "<div>\n",
       "<style scoped>\n",
       "    .dataframe tbody tr th:only-of-type {\n",
       "        vertical-align: middle;\n",
       "    }\n",
       "\n",
       "    .dataframe tbody tr th {\n",
       "        vertical-align: top;\n",
       "    }\n",
       "\n",
       "    .dataframe thead th {\n",
       "        text-align: right;\n",
       "    }\n",
       "</style>\n",
       "<table border=\"1\" class=\"dataframe\">\n",
       "  <thead>\n",
       "    <tr style=\"text-align: right;\">\n",
       "      <th></th>\n",
       "      <th>product_id</th>\n",
       "      <th>product_name</th>\n",
       "      <th>product_category</th>\n",
       "      <th>product_description</th>\n",
       "      <th>price</th>\n",
       "      <th>stock_quantity</th>\n",
       "      <th>warranty_period</th>\n",
       "      <th>product_dimensions</th>\n",
       "      <th>manufacturing_date</th>\n",
       "      <th>expiration_date</th>\n",
       "      <th>sku</th>\n",
       "      <th>product_tags</th>\n",
       "      <th>color_size_variations</th>\n",
       "      <th>product_ratings</th>\n",
       "    </tr>\n",
       "  </thead>\n",
       "  <tbody>\n",
       "    <tr>\n",
       "      <th>0</th>\n",
       "      <td>93TGNAY7</td>\n",
       "      <td>Laptop</td>\n",
       "      <td>Home Appliances</td>\n",
       "      <td>Product_XU5QX</td>\n",
       "      <td>253.17</td>\n",
       "      <td>3</td>\n",
       "      <td>2</td>\n",
       "      <td>16x15x15 cm</td>\n",
       "      <td>2023-01-01</td>\n",
       "      <td>2026-01-01</td>\n",
       "      <td>8NMFZ4</td>\n",
       "      <td>VNU,NZ6</td>\n",
       "      <td>Green/Large</td>\n",
       "      <td>2</td>\n",
       "    </tr>\n",
       "    <tr>\n",
       "      <th>1</th>\n",
       "      <td>TYYZ5AV7</td>\n",
       "      <td>Smartphone</td>\n",
       "      <td>Clothing</td>\n",
       "      <td>Product_NRUMS</td>\n",
       "      <td>214.37</td>\n",
       "      <td>92</td>\n",
       "      <td>2</td>\n",
       "      <td>15x19x19 cm</td>\n",
       "      <td>2023-03-15</td>\n",
       "      <td>2025-01-01</td>\n",
       "      <td>7P5YCW</td>\n",
       "      <td>ZJA,0D3</td>\n",
       "      <td>Red/Small</td>\n",
       "      <td>2</td>\n",
       "    </tr>\n",
       "    <tr>\n",
       "      <th>2</th>\n",
       "      <td>5C94FGTQ</td>\n",
       "      <td>Headphones</td>\n",
       "      <td>Clothing</td>\n",
       "      <td>Product_IT7HG</td>\n",
       "      <td>475.29</td>\n",
       "      <td>19</td>\n",
       "      <td>2</td>\n",
       "      <td>9x6x6 cm</td>\n",
       "      <td>2023-03-15</td>\n",
       "      <td>2026-01-01</td>\n",
       "      <td>YW5BME</td>\n",
       "      <td>ZNG,MAP</td>\n",
       "      <td>Red/Small</td>\n",
       "      <td>1</td>\n",
       "    </tr>\n",
       "    <tr>\n",
       "      <th>3</th>\n",
       "      <td>XBHKYPQB</td>\n",
       "      <td>Monitor</td>\n",
       "      <td>Clothing</td>\n",
       "      <td>Product_8SBDO</td>\n",
       "      <td>403.33</td>\n",
       "      <td>40</td>\n",
       "      <td>1</td>\n",
       "      <td>7x13x5 cm</td>\n",
       "      <td>2023-01-01</td>\n",
       "      <td>2026-01-01</td>\n",
       "      <td>65MQC3</td>\n",
       "      <td>RPP,M40</td>\n",
       "      <td>Green/Large</td>\n",
       "      <td>1</td>\n",
       "    </tr>\n",
       "    <tr>\n",
       "      <th>4</th>\n",
       "      <td>728GCZFU</td>\n",
       "      <td>Laptop</td>\n",
       "      <td>Home Appliances</td>\n",
       "      <td>Product_54FAF</td>\n",
       "      <td>229.81</td>\n",
       "      <td>32</td>\n",
       "      <td>2</td>\n",
       "      <td>20x20x19 cm</td>\n",
       "      <td>2023-07-30</td>\n",
       "      <td>2026-01-01</td>\n",
       "      <td>RLCBRW</td>\n",
       "      <td>R8U,X46</td>\n",
       "      <td>Blue/Medium</td>\n",
       "      <td>4</td>\n",
       "    </tr>\n",
       "  </tbody>\n",
       "</table>\n",
       "</div>"
      ],
      "text/plain": [
       "  product_id product_name product_category product_description   price  \\\n",
       "0   93TGNAY7       Laptop  Home Appliances       Product_XU5QX  253.17   \n",
       "1   TYYZ5AV7   Smartphone         Clothing       Product_NRUMS  214.37   \n",
       "2   5C94FGTQ   Headphones         Clothing       Product_IT7HG  475.29   \n",
       "3   XBHKYPQB      Monitor         Clothing       Product_8SBDO  403.33   \n",
       "4   728GCZFU       Laptop  Home Appliances       Product_54FAF  229.81   \n",
       "\n",
       "   stock_quantity  warranty_period product_dimensions manufacturing_date  \\\n",
       "0               3                2        16x15x15 cm         2023-01-01   \n",
       "1              92                2        15x19x19 cm         2023-03-15   \n",
       "2              19                2           9x6x6 cm         2023-03-15   \n",
       "3              40                1          7x13x5 cm         2023-01-01   \n",
       "4              32                2        20x20x19 cm         2023-07-30   \n",
       "\n",
       "  expiration_date     sku product_tags color_size_variations  product_ratings  \n",
       "0      2026-01-01  8NMFZ4      VNU,NZ6           Green/Large                2  \n",
       "1      2025-01-01  7P5YCW      ZJA,0D3             Red/Small                2  \n",
       "2      2026-01-01  YW5BME      ZNG,MAP             Red/Small                1  \n",
       "3      2026-01-01  65MQC3      RPP,M40           Green/Large                1  \n",
       "4      2026-01-01  RLCBRW      R8U,X46           Blue/Medium                4  "
      ]
     },
     "execution_count": 4,
     "metadata": {},
     "output_type": "execute_result"
    }
   ],
   "source": [
    "# Create an expectation suite\n",
    "expectation_suite_name = 'expectation-electronics-inventory'\n",
    "context.add_or_update_expectation_suite(expectation_suite_name)\n",
    "\n",
    "# Create a validator using above expectation suite\n",
    "validator = context.get_validator(\n",
    "    batch_request = batch_request,\n",
    "    expectation_suite_name = expectation_suite_name\n",
    ")\n",
    "\n",
    "# Check the validator\n",
    "validator.head()"
   ]
  },
  {
   "cell_type": "markdown",
   "id": "c29e4365",
   "metadata": {},
   "source": [
    "We have already created an expectation suite named 'expectation-electronics-sales', a validator based on the expectation suite, and checked the validator's data."
   ]
  },
  {
   "cell_type": "code",
   "execution_count": 7,
   "id": "cc33894a",
   "metadata": {},
   "outputs": [
    {
     "data": {
      "application/vnd.jupyter.widget-view+json": {
       "model_id": "e79dbe1cb75744408bb220ecf97ca3c1",
       "version_major": 2,
       "version_minor": 0
      },
      "text/plain": [
       "Calculating Metrics:   0%|          | 0/8 [00:00<?, ?it/s]"
      ]
     },
     "metadata": {},
     "output_type": "display_data"
    },
    {
     "data": {
      "text/plain": [
       "{\n",
       "  \"success\": true,\n",
       "  \"exception_info\": {\n",
       "    \"raised_exception\": false,\n",
       "    \"exception_traceback\": null,\n",
       "    \"exception_message\": null\n",
       "  },\n",
       "  \"result\": {\n",
       "    \"element_count\": 10000,\n",
       "    \"unexpected_count\": 0,\n",
       "    \"unexpected_percent\": 0.0,\n",
       "    \"partial_unexpected_list\": [],\n",
       "    \"missing_count\": 0,\n",
       "    \"missing_percent\": 0.0,\n",
       "    \"unexpected_percent_total\": 0.0,\n",
       "    \"unexpected_percent_nonmissing\": 0.0\n",
       "  },\n",
       "  \"meta\": {}\n",
       "}"
      ]
     },
     "execution_count": 7,
     "metadata": {},
     "output_type": "execute_result"
    }
   ],
   "source": [
    "# Expectation 1 : Column `product_id` have to be unique\n",
    "\n",
    "validator.expect_column_values_to_be_unique('product_id')"
   ]
  },
  {
   "cell_type": "markdown",
   "id": "bfb54a51",
   "metadata": {},
   "source": [
    "This expectation ensures `product_id` must be unique to identify certain items in the inventory dataset."
   ]
  },
  {
   "cell_type": "code",
   "execution_count": 8,
   "id": "dc73b75f",
   "metadata": {},
   "outputs": [
    {
     "data": {
      "application/vnd.jupyter.widget-view+json": {
       "model_id": "39df5489e86f40fba4531233cc1ac213",
       "version_major": 2,
       "version_minor": 0
      },
      "text/plain": [
       "Calculating Metrics:   0%|          | 0/8 [00:00<?, ?it/s]"
      ]
     },
     "metadata": {},
     "output_type": "display_data"
    },
    {
     "data": {
      "text/plain": [
       "{\n",
       "  \"success\": true,\n",
       "  \"exception_info\": {\n",
       "    \"raised_exception\": false,\n",
       "    \"exception_traceback\": null,\n",
       "    \"exception_message\": null\n",
       "  },\n",
       "  \"result\": {\n",
       "    \"element_count\": 10000,\n",
       "    \"unexpected_count\": 0,\n",
       "    \"unexpected_percent\": 0.0,\n",
       "    \"partial_unexpected_list\": [],\n",
       "    \"missing_count\": 0,\n",
       "    \"missing_percent\": 0.0,\n",
       "    \"unexpected_percent_total\": 0.0,\n",
       "    \"unexpected_percent_nonmissing\": 0.0\n",
       "  },\n",
       "  \"meta\": {}\n",
       "}"
      ]
     },
     "execution_count": 8,
     "metadata": {},
     "output_type": "execute_result"
    }
   ],
   "source": [
    "# Expectation 2 : Column `product_ratings` must between min_value and max_value\n",
    "\n",
    "validator.expect_column_values_to_be_between(column='product_ratings',min_value=0,max_value=5.0)"
   ]
  },
  {
   "cell_type": "markdown",
   "id": "85f34395",
   "metadata": {},
   "source": [
    "This expectation ensures the values in `product_ratings` are within valid range of 0 to 5.0 to determine customer satisfaction on products, which can lead to analyse each products performances."
   ]
  },
  {
   "cell_type": "code",
   "execution_count": null,
   "id": "df003e22",
   "metadata": {},
   "outputs": [
    {
     "data": {
      "application/vnd.jupyter.widget-view+json": {
       "model_id": "558f0fb9da984e8db48721ec0a43a0bf",
       "version_major": 2,
       "version_minor": 0
      },
      "text/plain": [
       "Calculating Metrics:   0%|          | 0/8 [00:00<?, ?it/s]"
      ]
     },
     "metadata": {},
     "output_type": "display_data"
    },
    {
     "data": {
      "text/plain": [
       "{\n",
       "  \"success\": false,\n",
       "  \"exception_info\": {\n",
       "    \"raised_exception\": false,\n",
       "    \"exception_traceback\": null,\n",
       "    \"exception_message\": null\n",
       "  },\n",
       "  \"result\": {\n",
       "    \"element_count\": 10000,\n",
       "    \"unexpected_count\": 10000,\n",
       "    \"unexpected_percent\": 100.0,\n",
       "    \"partial_unexpected_list\": [\n",
       "      \"Laptop\",\n",
       "      \"Smartphone\",\n",
       "      \"Headphones\",\n",
       "      \"Monitor\",\n",
       "      \"Laptop\",\n",
       "      \"Smartphone\",\n",
       "      \"Headphones\",\n",
       "      \"Monitor\",\n",
       "      \"Monitor\",\n",
       "      \"Smartphone\",\n",
       "      \"Monitor\",\n",
       "      \"Headphones\",\n",
       "      \"Smartphone\",\n",
       "      \"Monitor\",\n",
       "      \"Laptop\",\n",
       "      \"Smartphone\",\n",
       "      \"Monitor\",\n",
       "      \"Monitor\",\n",
       "      \"Headphones\",\n",
       "      \"Smartphone\"\n",
       "    ],\n",
       "    \"missing_count\": 0,\n",
       "    \"missing_percent\": 0.0,\n",
       "    \"unexpected_percent_total\": 100.0,\n",
       "    \"unexpected_percent_nonmissing\": 100.0\n",
       "  },\n",
       "  \"meta\": {}\n",
       "}"
      ]
     },
     "execution_count": 9,
     "metadata": {},
     "output_type": "execute_result"
    }
   ],
   "source": [
    "# Expectation 3 : Column `product_name` must contain one of the following 4 things :\n",
    "# 1. Laptop\n",
    "# 2. Smartphones\n",
    "# 3. Monitor\n",
    "# 4. Headphones\n",
    "\n",
    "validator.expect_column_values_to_be_in_set('product_name', ['Laptop', 'Smartphones', 'Monitor', 'Headphones'])"
   ]
  },
  {
   "cell_type": "markdown",
   "id": "896aa3d2",
   "metadata": {},
   "source": [
    "This expectations ensure the data are specifically integrated to verify that product's names are limited to one of the four products."
   ]
  },
  {
   "cell_type": "code",
   "execution_count": 10,
   "id": "0f68ca04",
   "metadata": {},
   "outputs": [
    {
     "data": {
      "application/vnd.jupyter.widget-view+json": {
       "model_id": "b3b5320a9a36425fb958c909a384dff2",
       "version_major": 2,
       "version_minor": 0
      },
      "text/plain": [
       "Calculating Metrics:   0%|          | 0/1 [00:00<?, ?it/s]"
      ]
     },
     "metadata": {},
     "output_type": "display_data"
    },
    {
     "data": {
      "text/plain": [
       "{\n",
       "  \"success\": true,\n",
       "  \"exception_info\": {\n",
       "    \"raised_exception\": false,\n",
       "    \"exception_traceback\": null,\n",
       "    \"exception_message\": null\n",
       "  },\n",
       "  \"result\": {\n",
       "    \"observed_value\": \"float64\"\n",
       "  },\n",
       "  \"meta\": {}\n",
       "}"
      ]
     },
     "execution_count": 10,
     "metadata": {},
     "output_type": "execute_result"
    }
   ],
   "source": [
    "# Expectation 4 : Column 'price' must in type list\n",
    "\n",
    "validator.expect_column_values_to_be_in_type_list('price', ['float'])"
   ]
  },
  {
   "cell_type": "markdown",
   "id": "bafa968e",
   "metadata": {},
   "source": [
    "This expectations ensure the input for `price` are using float type for validating product cost and other financial analysis."
   ]
  },
  {
   "cell_type": "code",
   "execution_count": 11,
   "id": "4968a2e3",
   "metadata": {},
   "outputs": [
    {
     "data": {
      "application/vnd.jupyter.widget-view+json": {
       "model_id": "162de3c06da041ccb4f76ab3ddf4d1f2",
       "version_major": 2,
       "version_minor": 0
      },
      "text/plain": [
       "Calculating Metrics:   0%|          | 0/8 [00:00<?, ?it/s]"
      ]
     },
     "metadata": {},
     "output_type": "display_data"
    },
    {
     "data": {
      "text/plain": [
       "{\n",
       "  \"success\": true,\n",
       "  \"exception_info\": {\n",
       "    \"raised_exception\": false,\n",
       "    \"exception_traceback\": null,\n",
       "    \"exception_message\": null\n",
       "  },\n",
       "  \"result\": {\n",
       "    \"element_count\": 10000,\n",
       "    \"unexpected_count\": 0,\n",
       "    \"unexpected_percent\": 0.0,\n",
       "    \"partial_unexpected_list\": [],\n",
       "    \"missing_count\": 0,\n",
       "    \"missing_percent\": 0.0,\n",
       "    \"unexpected_percent_total\": 0.0,\n",
       "    \"unexpected_percent_nonmissing\": 0.0\n",
       "  },\n",
       "  \"meta\": {}\n",
       "}"
      ]
     },
     "execution_count": 11,
     "metadata": {},
     "output_type": "execute_result"
    }
   ],
   "source": [
    "# Expectation 5 : Column 'sku' must match Regex Pattern\n",
    "\n",
    "validator.expect_column_values_to_match_regex('sku', '^[A-Z0-9]{6}$')"
   ]
  },
  {
   "cell_type": "markdown",
   "id": "ad6a2e00",
   "metadata": {},
   "source": [
    "This expectations ensure that all values in the 'sku' column consist of 6 random-alphanumerics."
   ]
  },
  {
   "cell_type": "code",
   "execution_count": 12,
   "id": "1417746b",
   "metadata": {},
   "outputs": [
    {
     "data": {
      "application/vnd.jupyter.widget-view+json": {
       "model_id": "33321ca609204046814f5124eff8c834",
       "version_major": 2,
       "version_minor": 0
      },
      "text/plain": [
       "Calculating Metrics:   0%|          | 0/8 [00:00<?, ?it/s]"
      ]
     },
     "metadata": {},
     "output_type": "display_data"
    },
    {
     "data": {
      "text/plain": [
       "{\n",
       "  \"success\": true,\n",
       "  \"exception_info\": {\n",
       "    \"raised_exception\": false,\n",
       "    \"exception_traceback\": null,\n",
       "    \"exception_message\": null\n",
       "  },\n",
       "  \"result\": {\n",
       "    \"element_count\": 10000,\n",
       "    \"unexpected_count\": 0,\n",
       "    \"unexpected_percent\": 0.0,\n",
       "    \"partial_unexpected_list\": [],\n",
       "    \"missing_count\": 0,\n",
       "    \"missing_percent\": 0.0,\n",
       "    \"unexpected_percent_total\": 0.0,\n",
       "    \"unexpected_percent_nonmissing\": 0.0\n",
       "  },\n",
       "  \"meta\": {}\n",
       "}"
      ]
     },
     "execution_count": 12,
     "metadata": {},
     "output_type": "execute_result"
    }
   ],
   "source": [
    "# Expectation 6 : Column 'expiration_date' must match strftime format\n",
    "\n",
    "validator.expect_column_values_to_match_strftime_format('expiration_date', '%Y-%m-%d')"
   ]
  },
  {
   "cell_type": "markdown",
   "id": "335d0c03",
   "metadata": {},
   "source": [
    "This expectations ensure all values in the 'expiration_date' column conform to a specific date format."
   ]
  },
  {
   "cell_type": "code",
   "execution_count": 13,
   "id": "e47945e1",
   "metadata": {},
   "outputs": [
    {
     "data": {
      "application/vnd.jupyter.widget-view+json": {
       "model_id": "cb3f8e60214d44259c6b91e7f4bf0030",
       "version_major": 2,
       "version_minor": 0
      },
      "text/plain": [
       "Calculating Metrics:   0%|          | 0/4 [00:00<?, ?it/s]"
      ]
     },
     "metadata": {},
     "output_type": "display_data"
    },
    {
     "data": {
      "text/plain": [
       "{\n",
       "  \"success\": true,\n",
       "  \"exception_info\": {\n",
       "    \"raised_exception\": false,\n",
       "    \"exception_traceback\": null,\n",
       "    \"exception_message\": null\n",
       "  },\n",
       "  \"result\": {\n",
       "    \"observed_value\": [\n",
       "      \"Headphones\"\n",
       "    ]\n",
       "  },\n",
       "  \"meta\": {}\n",
       "}"
      ]
     },
     "execution_count": 13,
     "metadata": {},
     "output_type": "execute_result"
    }
   ],
   "source": [
    "# Expectation 7 : Column 'product_name' must be in set\n",
    "\n",
    "validator.expect_column_most_common_value_to_be_in_set('product_name', ['Laptop', 'Smartphone', 'Monitor', 'Headphones'])"
   ]
  },
  {
   "cell_type": "markdown",
   "id": "7b21dbef",
   "metadata": {},
   "source": [
    "This expectations ensure the set of acceptable product to be in the list of inventory ('Laptop', 'Smartphone', 'Monitor', 'Headphones')."
   ]
  },
  {
   "cell_type": "code",
   "execution_count": 14,
   "id": "d29cbcae",
   "metadata": {},
   "outputs": [],
   "source": [
    "# Save into Expectation Suite\n",
    "\n",
    "validator.save_expectation_suite(discard_failed_expectations=False)"
   ]
  },
  {
   "cell_type": "markdown",
   "id": "ac9977f7",
   "metadata": {},
   "source": [
    "Saves the \\defined data expectations into an expectation suite."
   ]
  },
  {
   "cell_type": "code",
   "execution_count": 15,
   "id": "2192acf2",
   "metadata": {},
   "outputs": [],
   "source": [
    "# Create a checkpoint\n",
    "\n",
    "checkpoint_1 = context.add_or_update_checkpoint(\n",
    "    name = 'checkpoint_1',\n",
    "    validator = validator,\n",
    ")"
   ]
  },
  {
   "cell_type": "markdown",
   "id": "b5c1ccc3",
   "metadata": {},
   "source": [
    "Defines a checkpoint called 'checkpoint_1' within the data validation context, linking it to a given validator to automate and simplify the process of running data validation checks."
   ]
  },
  {
   "cell_type": "code",
   "execution_count": 16,
   "id": "55723bff",
   "metadata": {},
   "outputs": [
    {
     "data": {
      "application/vnd.jupyter.widget-view+json": {
       "model_id": "fc4d344bb6cb4fac81ca9ae4b6dad285",
       "version_major": 2,
       "version_minor": 0
      },
      "text/plain": [
       "Calculating Metrics:   0%|          | 0/39 [00:00<?, ?it/s]"
      ]
     },
     "metadata": {},
     "output_type": "display_data"
    }
   ],
   "source": [
    "# Run a checkpoint\n",
    "\n",
    "checkpoint_result = checkpoint_1.run()"
   ]
  },
  {
   "cell_type": "markdown",
   "id": "8ddc3a4b",
   "metadata": {},
   "source": [
    "Runs a predefined series of data validation checks (called a checkpoint) on dataset to verify it meets certain standards to provide the desire output."
   ]
  },
  {
   "cell_type": "code",
   "execution_count": 17,
   "id": "c0428165",
   "metadata": {},
   "outputs": [
    {
     "data": {
      "text/plain": [
       "{'local_site': 'file://h:\\\\Hacktiv8\\\\p2-ftds042-rmt-m3-nathanaelzefanya\\\\gx\\\\uncommitted/data_docs/local_site/index.html'}"
      ]
     },
     "execution_count": 17,
     "metadata": {},
     "output_type": "execute_result"
    }
   ],
   "source": [
    "# Build data docs\n",
    "\n",
    "context.build_data_docs()"
   ]
  },
  {
   "cell_type": "markdown",
   "id": "4c9d6929",
   "metadata": {},
   "source": [
    "Creates and updates the dataset’s documentation by producing a summary that highlights the results of data validation and profiling."
   ]
  }
 ],
 "metadata": {
  "kernelspec": {
   "display_name": "env_py39",
   "language": "python",
   "name": "python3"
  },
  "language_info": {
   "codemirror_mode": {
    "name": "ipython",
    "version": 3
   },
   "file_extension": ".py",
   "mimetype": "text/x-python",
   "name": "python",
   "nbconvert_exporter": "python",
   "pygments_lexer": "ipython3",
   "version": "3.9.23"
  }
 },
 "nbformat": 4,
 "nbformat_minor": 5
}
